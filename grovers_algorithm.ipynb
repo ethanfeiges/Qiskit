{
 "cells": [
  {
   "cell_type": "code",
   "execution_count": 6,
   "metadata": {},
   "outputs": [],
   "source": [
    "## Suppose we have an unsorted list:\n",
    "my_list = [3, 5, 2, 4, 9, 5, 7, 0, 10]\n",
    "\n",
    "\"\"\" Objective: Find #7\n",
    "Modify the classical search approach (O(N) linear traversal) by defining an oracle (black box)\n",
    "\"\"\"\n",
    "## (Black box to produce a solution for any instance of a given problem at our disposal)\n",
    "def the_oracle(my_input):\n",
    "    winner=7\n",
    "    if(my_input is winner):\n",
    "        return True\n",
    "    return False"
   ]
  },
  {
   "cell_type": "code",
   "execution_count": 12,
   "metadata": {},
   "outputs": [
    {
     "name": "stdout",
     "output_type": "stream",
     "text": [
      "Winner found at index 6\n",
      "7 calls to the Oracle used\n"
     ]
    }
   ],
   "source": [
    "# How many times will we need to call the oracle to get an actual winner?\n",
    "\n",
    "for index, trial_number in enumerate(my_list):\n",
    "    if the_oracle(trial_number) is True:\n",
    "        print('Winner found at index %i' %index)\n",
    "        print('%i calls to the Oracle used' %(index + 1))\n",
    "        break"
   ]
  },
  {
   "cell_type": "markdown",
   "metadata": {},
   "source": [
    "## Quantum Oracle: Flips the sign if the input state matches the \"winner\" (11) state"
   ]
  },
  {
   "cell_type": "markdown",
   "metadata": {},
   "source": [
    "Grover's algorithm turns the classical algorithm into sqrt(N)"
   ]
  },
  {
   "cell_type": "code",
   "execution_count": 10,
   "metadata": {},
   "outputs": [],
   "source": [
    "## Controlled Z-gate flips the state of the |11> state\n",
    "## Also need amplitude amplficiation (reflection operator)\n",
    "## Grover's operator = amplification + oracle"
   ]
  },
  {
   "cell_type": "code",
   "execution_count": 9,
   "metadata": {},
   "outputs": [],
   "source": [
    "from qiskit import *\n",
    "import matplotlib.pyplot as plot\n",
    "import numpy as np"
   ]
  },
  {
   "cell_type": "code",
   "execution_count": 11,
   "metadata": {},
   "outputs": [
    {
     "data": {
      "text/html": [
       "<pre style=\"word-wrap: normal;white-space: pre;background: #fff0;line-height: 1.1;font-family: &quot;Courier New&quot;,Courier,monospace\">        \n",
       "q_0: ─■─\n",
       "      │ \n",
       "q_1: ─■─\n",
       "        </pre>"
      ],
      "text/plain": [
       "        \n",
       "q_0: ─■─\n",
       "      │ \n",
       "q_1: ─■─\n",
       "        "
      ]
     },
     "execution_count": 11,
     "metadata": {},
     "output_type": "execute_result"
    }
   ],
   "source": [
    "#define a circuit to act as an oracle\n",
    "oracle = QuantumCircuit(2, name='oracle')\n",
    "## Controlled not gate\n",
    "oracle.cz(0, 1)\n",
    "oracle.to_gate()\n",
    "oracle.draw()"
   ]
  },
  {
   "cell_type": "code",
   "execution_count": 12,
   "metadata": {},
   "outputs": [
    {
     "data": {
      "text/html": [
       "<pre style=\"word-wrap: normal;white-space: pre;background: #fff0;line-height: 1.1;font-family: &quot;Courier New&quot;,Courier,monospace\">     ┌───┐┌─────────┐┌─┐   \n",
       "q_0: ┤ H ├┤0        ├┤M├───\n",
       "     ├───┤│  oracle │└╥┘┌─┐\n",
       "q_1: ┤ H ├┤1        ├─╫─┤M├\n",
       "     └───┘└─────────┘ ║ └╥┘\n",
       "c: 2/═════════════════╩══╩═\n",
       "                      0  1 </pre>"
      ],
      "text/plain": [
       "     ┌───┐┌─────────┐┌─┐   \n",
       "q_0: ┤ H ├┤0        ├┤M├───\n",
       "     ├───┤│  oracle │└╥┘┌─┐\n",
       "q_1: ┤ H ├┤1        ├─╫─┤M├\n",
       "     └───┘└─────────┘ ║ └╥┘\n",
       "c: 2/═════════════════╩══╩═\n",
       "                      0  1 "
      ]
     },
     "execution_count": 12,
     "metadata": {},
     "output_type": "execute_result"
    }
   ],
   "source": [
    "\n",
    "## Check Oracle functionality by preparing superposition state of all qubits by applying hadamard gate\n",
    "from qiskit_ibm_runtime import QiskitRuntimeService\n",
    "backend_name = 'ibm_brisbane'\n",
    "service = QiskitRuntimeService()\n",
    "backend = service.get_backend(backend_name)\n",
    "## Two qubits and two classical registers\n",
    "grover_circ = QuantumCircuit(2, 2)\n",
    "## Add hadamard gate on both qubits to prepare all 4 superposition states\n",
    "grover_circ.h([0, 1])\n",
    "## Add oracle to query both superpositioned states at the same time\n",
    "grover_circ.append(oracle, [0, 1])\n",
    "grover_circ.measure([0, 1], [0, 1])\n",
    "grover_circ.draw()"
   ]
  },
  {
   "cell_type": "code",
   "execution_count": 14,
   "metadata": {},
   "outputs": [
    {
     "name": "stderr",
     "output_type": "stream",
     "text": [
      "C:\\Users\\ejfei\\AppData\\Local\\Temp\\ipykernel_1736\\1647404501.py:4: DeprecationWarning: backend.run() and related sessions methods are deprecated  as of qiskit-ibm-runtime 0.23 and will be removed no sooner than 6 months after the release date. More details can be found in the primitives migration guide https://docs.quantum.ibm.com/api/migration-guides/qiskit-runtime.\n",
      "  job = backend.run(new_circuit)\n"
     ]
    },
    {
     "ename": "IBMBackendApiError",
     "evalue": "'Error submitting job: \\'409 Client Error: Conflict for url: https://api.quantum.ibm.com/runtime/jobs. {\"errors\":[{\"message\":\"You have reached the limit of 3 pending  jobs. Please wait for a job to complete or cancel one before submitting anything new.\",\"code\":3458,\"solution\":\"Wait until some previous jobs were finished. You can cancel pending jobs to run new jobs.\",\"more_info\":\"https://docs.quantum-computing.ibm.com/errors\"}]}\\''",
     "output_type": "error",
     "traceback": [
      "\u001b[1;31m---------------------------------------------------------------------------\u001b[0m",
      "\u001b[1;31mHTTPError\u001b[0m                                 Traceback (most recent call last)",
      "File \u001b[1;32mc:\\Users\\ejfei\\OneDrive\\Documents\\Qiskit\\cwd\\Lib\\site-packages\\qiskit_ibm_runtime\\api\\session.py:329\u001b[0m, in \u001b[0;36mRetrySession.request\u001b[1;34m(self, method, url, bare, **kwargs)\u001b[0m\n\u001b[0;32m    328\u001b[0m     response \u001b[38;5;241m=\u001b[39m \u001b[38;5;28msuper\u001b[39m()\u001b[38;5;241m.\u001b[39mrequest(method, final_url, headers\u001b[38;5;241m=\u001b[39mheaders, \u001b[38;5;241m*\u001b[39m\u001b[38;5;241m*\u001b[39mkwargs)\n\u001b[1;32m--> 329\u001b[0m     \u001b[43mresponse\u001b[49m\u001b[38;5;241;43m.\u001b[39;49m\u001b[43mraise_for_status\u001b[49m\u001b[43m(\u001b[49m\u001b[43m)\u001b[49m\n\u001b[0;32m    330\u001b[0m \u001b[38;5;28;01mexcept\u001b[39;00m RequestException \u001b[38;5;28;01mas\u001b[39;00m ex:\n\u001b[0;32m    331\u001b[0m     \u001b[38;5;66;03m# Wrap the requests exceptions into a IBM Q custom one, for\u001b[39;00m\n\u001b[0;32m    332\u001b[0m     \u001b[38;5;66;03m# compatibility.\u001b[39;00m\n",
      "File \u001b[1;32mc:\\Users\\ejfei\\OneDrive\\Documents\\Qiskit\\cwd\\Lib\\site-packages\\requests\\models.py:1021\u001b[0m, in \u001b[0;36mResponse.raise_for_status\u001b[1;34m(self)\u001b[0m\n\u001b[0;32m   1020\u001b[0m \u001b[38;5;28;01mif\u001b[39;00m http_error_msg:\n\u001b[1;32m-> 1021\u001b[0m     \u001b[38;5;28;01mraise\u001b[39;00m HTTPError(http_error_msg, response\u001b[38;5;241m=\u001b[39m\u001b[38;5;28mself\u001b[39m)\n",
      "\u001b[1;31mHTTPError\u001b[0m: 409 Client Error: Conflict for url: https://api.quantum.ibm.com/runtime/jobs",
      "\nThe above exception was the direct cause of the following exception:\n",
      "\u001b[1;31mRequestsApiError\u001b[0m                          Traceback (most recent call last)",
      "File \u001b[1;32mc:\\Users\\ejfei\\OneDrive\\Documents\\Qiskit\\cwd\\Lib\\site-packages\\qiskit_ibm_runtime\\ibm_backend.py:783\u001b[0m, in \u001b[0;36mIBMBackend._runtime_run\u001b[1;34m(self, program_id, inputs, backend_name, job_tags, image)\u001b[0m\n\u001b[0;32m    782\u001b[0m \u001b[38;5;28;01mtry\u001b[39;00m:\n\u001b[1;32m--> 783\u001b[0m     response \u001b[38;5;241m=\u001b[39m \u001b[38;5;28;43mself\u001b[39;49m\u001b[38;5;241;43m.\u001b[39;49m\u001b[43m_api_client\u001b[49m\u001b[38;5;241;43m.\u001b[39;49m\u001b[43mprogram_run\u001b[49m\u001b[43m(\u001b[49m\n\u001b[0;32m    784\u001b[0m \u001b[43m        \u001b[49m\u001b[43mprogram_id\u001b[49m\u001b[38;5;241;43m=\u001b[39;49m\u001b[43mprogram_id\u001b[49m\u001b[43m,\u001b[49m\n\u001b[0;32m    785\u001b[0m \u001b[43m        \u001b[49m\u001b[43mbackend_name\u001b[49m\u001b[38;5;241;43m=\u001b[39;49m\u001b[43mbackend_name\u001b[49m\u001b[43m,\u001b[49m\n\u001b[0;32m    786\u001b[0m \u001b[43m        \u001b[49m\u001b[43mparams\u001b[49m\u001b[38;5;241;43m=\u001b[39;49m\u001b[43minputs\u001b[49m\u001b[43m,\u001b[49m\n\u001b[0;32m    787\u001b[0m \u001b[43m        \u001b[49m\u001b[43mhgp\u001b[49m\u001b[38;5;241;43m=\u001b[39;49m\u001b[43mhgp_name\u001b[49m\u001b[43m,\u001b[49m\n\u001b[0;32m    788\u001b[0m \u001b[43m        \u001b[49m\u001b[43mlog_level\u001b[49m\u001b[38;5;241;43m=\u001b[39;49m\u001b[43mlog_level\u001b[49m\u001b[43m,\u001b[49m\n\u001b[0;32m    789\u001b[0m \u001b[43m        \u001b[49m\u001b[43mjob_tags\u001b[49m\u001b[38;5;241;43m=\u001b[39;49m\u001b[43mjob_tags\u001b[49m\u001b[43m,\u001b[49m\n\u001b[0;32m    790\u001b[0m \u001b[43m        \u001b[49m\u001b[43msession_id\u001b[49m\u001b[38;5;241;43m=\u001b[39;49m\u001b[43msession_id\u001b[49m\u001b[43m,\u001b[49m\n\u001b[0;32m    791\u001b[0m \u001b[43m        \u001b[49m\u001b[43mstart_session\u001b[49m\u001b[38;5;241;43m=\u001b[39;49m\u001b[38;5;28;43;01mFalse\u001b[39;49;00m\u001b[43m,\u001b[49m\n\u001b[0;32m    792\u001b[0m \u001b[43m        \u001b[49m\u001b[43mimage\u001b[49m\u001b[38;5;241;43m=\u001b[39;49m\u001b[43mimage\u001b[49m\u001b[43m,\u001b[49m\n\u001b[0;32m    793\u001b[0m \u001b[43m    \u001b[49m\u001b[43m)\u001b[49m\n\u001b[0;32m    794\u001b[0m \u001b[38;5;28;01mexcept\u001b[39;00m RequestsApiError \u001b[38;5;28;01mas\u001b[39;00m ex:\n",
      "File \u001b[1;32mc:\\Users\\ejfei\\OneDrive\\Documents\\Qiskit\\cwd\\Lib\\site-packages\\qiskit_ibm_runtime\\api\\clients\\runtime.py:87\u001b[0m, in \u001b[0;36mRuntimeClient.program_run\u001b[1;34m(self, program_id, backend_name, params, image, hgp, log_level, session_id, job_tags, max_execution_time, start_session, session_time, channel_strategy)\u001b[0m\n\u001b[0;32m     86\u001b[0m     hgp_dict \u001b[38;5;241m=\u001b[39m {\u001b[38;5;124m\"\u001b[39m\u001b[38;5;124mhub\u001b[39m\u001b[38;5;124m\"\u001b[39m: hub, \u001b[38;5;124m\"\u001b[39m\u001b[38;5;124mgroup\u001b[39m\u001b[38;5;124m\"\u001b[39m: group, \u001b[38;5;124m\"\u001b[39m\u001b[38;5;124mproject\u001b[39m\u001b[38;5;124m\"\u001b[39m: project}\n\u001b[1;32m---> 87\u001b[0m \u001b[38;5;28;01mreturn\u001b[39;00m \u001b[38;5;28;43mself\u001b[39;49m\u001b[38;5;241;43m.\u001b[39;49m\u001b[43m_api\u001b[49m\u001b[38;5;241;43m.\u001b[39;49m\u001b[43mprogram_run\u001b[49m\u001b[43m(\u001b[49m\n\u001b[0;32m     88\u001b[0m \u001b[43m    \u001b[49m\u001b[43mprogram_id\u001b[49m\u001b[38;5;241;43m=\u001b[39;49m\u001b[43mprogram_id\u001b[49m\u001b[43m,\u001b[49m\n\u001b[0;32m     89\u001b[0m \u001b[43m    \u001b[49m\u001b[43mbackend_name\u001b[49m\u001b[38;5;241;43m=\u001b[39;49m\u001b[43mbackend_name\u001b[49m\u001b[43m,\u001b[49m\n\u001b[0;32m     90\u001b[0m \u001b[43m    \u001b[49m\u001b[43mparams\u001b[49m\u001b[38;5;241;43m=\u001b[39;49m\u001b[43mparams\u001b[49m\u001b[43m,\u001b[49m\n\u001b[0;32m     91\u001b[0m \u001b[43m    \u001b[49m\u001b[43mimage\u001b[49m\u001b[38;5;241;43m=\u001b[39;49m\u001b[43mimage\u001b[49m\u001b[43m,\u001b[49m\n\u001b[0;32m     92\u001b[0m \u001b[43m    \u001b[49m\u001b[43mlog_level\u001b[49m\u001b[38;5;241;43m=\u001b[39;49m\u001b[43mlog_level\u001b[49m\u001b[43m,\u001b[49m\n\u001b[0;32m     93\u001b[0m \u001b[43m    \u001b[49m\u001b[43msession_id\u001b[49m\u001b[38;5;241;43m=\u001b[39;49m\u001b[43msession_id\u001b[49m\u001b[43m,\u001b[49m\n\u001b[0;32m     94\u001b[0m \u001b[43m    \u001b[49m\u001b[43mjob_tags\u001b[49m\u001b[38;5;241;43m=\u001b[39;49m\u001b[43mjob_tags\u001b[49m\u001b[43m,\u001b[49m\n\u001b[0;32m     95\u001b[0m \u001b[43m    \u001b[49m\u001b[43mmax_execution_time\u001b[49m\u001b[38;5;241;43m=\u001b[39;49m\u001b[43mmax_execution_time\u001b[49m\u001b[43m,\u001b[49m\n\u001b[0;32m     96\u001b[0m \u001b[43m    \u001b[49m\u001b[43mstart_session\u001b[49m\u001b[38;5;241;43m=\u001b[39;49m\u001b[43mstart_session\u001b[49m\u001b[43m,\u001b[49m\n\u001b[0;32m     97\u001b[0m \u001b[43m    \u001b[49m\u001b[43msession_time\u001b[49m\u001b[38;5;241;43m=\u001b[39;49m\u001b[43msession_time\u001b[49m\u001b[43m,\u001b[49m\n\u001b[0;32m     98\u001b[0m \u001b[43m    \u001b[49m\u001b[43mchannel_strategy\u001b[49m\u001b[38;5;241;43m=\u001b[39;49m\u001b[43mchannel_strategy\u001b[49m\u001b[43m,\u001b[49m\n\u001b[0;32m     99\u001b[0m \u001b[43m    \u001b[49m\u001b[38;5;241;43m*\u001b[39;49m\u001b[38;5;241;43m*\u001b[39;49m\u001b[43mhgp_dict\u001b[49m\u001b[43m,\u001b[49m\n\u001b[0;32m    100\u001b[0m \u001b[43m\u001b[49m\u001b[43m)\u001b[49m\n",
      "File \u001b[1;32mc:\\Users\\ejfei\\OneDrive\\Documents\\Qiskit\\cwd\\Lib\\site-packages\\qiskit_ibm_runtime\\api\\rest\\runtime.py:128\u001b[0m, in \u001b[0;36mRuntime.program_run\u001b[1;34m(self, program_id, backend_name, params, image, hub, group, project, log_level, session_id, job_tags, max_execution_time, start_session, session_time, channel_strategy)\u001b[0m\n\u001b[0;32m    127\u001b[0m data \u001b[38;5;241m=\u001b[39m json\u001b[38;5;241m.\u001b[39mdumps(payload, \u001b[38;5;28mcls\u001b[39m\u001b[38;5;241m=\u001b[39mRuntimeEncoder)\n\u001b[1;32m--> 128\u001b[0m \u001b[38;5;28;01mreturn\u001b[39;00m \u001b[38;5;28;43mself\u001b[39;49m\u001b[38;5;241;43m.\u001b[39;49m\u001b[43msession\u001b[49m\u001b[38;5;241;43m.\u001b[39;49m\u001b[43mpost\u001b[49m\u001b[43m(\u001b[49m\u001b[43murl\u001b[49m\u001b[43m,\u001b[49m\u001b[43m \u001b[49m\u001b[43mdata\u001b[49m\u001b[38;5;241;43m=\u001b[39;49m\u001b[43mdata\u001b[49m\u001b[43m,\u001b[49m\u001b[43m \u001b[49m\u001b[43mtimeout\u001b[49m\u001b[38;5;241;43m=\u001b[39;49m\u001b[38;5;241;43m900\u001b[39;49m\u001b[43m)\u001b[49m\u001b[38;5;241m.\u001b[39mjson()\n",
      "File \u001b[1;32mc:\\Users\\ejfei\\OneDrive\\Documents\\Qiskit\\cwd\\Lib\\site-packages\\requests\\sessions.py:637\u001b[0m, in \u001b[0;36mSession.post\u001b[1;34m(self, url, data, json, **kwargs)\u001b[0m\n\u001b[0;32m    627\u001b[0m \u001b[38;5;250m\u001b[39m\u001b[38;5;124mr\u001b[39m\u001b[38;5;124;03m\"\"\"Sends a POST request. Returns :class:`Response` object.\u001b[39;00m\n\u001b[0;32m    628\u001b[0m \n\u001b[0;32m    629\u001b[0m \u001b[38;5;124;03m:param url: URL for the new :class:`Request` object.\u001b[39;00m\n\u001b[1;32m   (...)\u001b[0m\n\u001b[0;32m    634\u001b[0m \u001b[38;5;124;03m:rtype: requests.Response\u001b[39;00m\n\u001b[0;32m    635\u001b[0m \u001b[38;5;124;03m\"\"\"\u001b[39;00m\n\u001b[1;32m--> 637\u001b[0m \u001b[38;5;28;01mreturn\u001b[39;00m \u001b[38;5;28;43mself\u001b[39;49m\u001b[38;5;241;43m.\u001b[39;49m\u001b[43mrequest\u001b[49m\u001b[43m(\u001b[49m\u001b[38;5;124;43m\"\u001b[39;49m\u001b[38;5;124;43mPOST\u001b[39;49m\u001b[38;5;124;43m\"\u001b[39;49m\u001b[43m,\u001b[49m\u001b[43m \u001b[49m\u001b[43murl\u001b[49m\u001b[43m,\u001b[49m\u001b[43m \u001b[49m\u001b[43mdata\u001b[49m\u001b[38;5;241;43m=\u001b[39;49m\u001b[43mdata\u001b[49m\u001b[43m,\u001b[49m\u001b[43m \u001b[49m\u001b[43mjson\u001b[49m\u001b[38;5;241;43m=\u001b[39;49m\u001b[43mjson\u001b[49m\u001b[43m,\u001b[49m\u001b[43m \u001b[49m\u001b[38;5;241;43m*\u001b[39;49m\u001b[38;5;241;43m*\u001b[39;49m\u001b[43mkwargs\u001b[49m\u001b[43m)\u001b[49m\n",
      "File \u001b[1;32mc:\\Users\\ejfei\\OneDrive\\Documents\\Qiskit\\cwd\\Lib\\site-packages\\qiskit_ibm_runtime\\api\\session.py:351\u001b[0m, in \u001b[0;36mRetrySession.request\u001b[1;34m(self, method, url, bare, **kwargs)\u001b[0m\n\u001b[0;32m    350\u001b[0m         \u001b[38;5;28;01mraise\u001b[39;00m IBMNotAuthorizedError(message) \u001b[38;5;28;01mfrom\u001b[39;00m \u001b[38;5;21;01mex\u001b[39;00m\n\u001b[1;32m--> 351\u001b[0m     \u001b[38;5;28;01mraise\u001b[39;00m RequestsApiError(message, status_code) \u001b[38;5;28;01mfrom\u001b[39;00m \u001b[38;5;21;01mex\u001b[39;00m\n\u001b[0;32m    353\u001b[0m \u001b[38;5;28;01mreturn\u001b[39;00m response\n",
      "\u001b[1;31mRequestsApiError\u001b[0m: '409 Client Error: Conflict for url: https://api.quantum.ibm.com/runtime/jobs. {\"errors\":[{\"message\":\"You have reached the limit of 3 pending  jobs. Please wait for a job to complete or cancel one before submitting anything new.\",\"code\":3458,\"solution\":\"Wait until some previous jobs were finished. You can cancel pending jobs to run new jobs.\",\"more_info\":\"https://docs.quantum-computing.ibm.com/errors\"}]}'",
      "\nThe above exception was the direct cause of the following exception:\n",
      "\u001b[1;31mIBMBackendApiError\u001b[0m                        Traceback (most recent call last)",
      "Cell \u001b[1;32mIn[14], line 4\u001b[0m\n\u001b[0;32m      1\u001b[0m \u001b[38;5;28;01mfrom\u001b[39;00m \u001b[38;5;21;01mqiskit\u001b[39;00m \u001b[38;5;28;01mimport\u001b[39;00m transpile\n\u001b[0;32m      3\u001b[0m new_circuit \u001b[38;5;241m=\u001b[39m transpile(grover_circ, backend)\n\u001b[1;32m----> 4\u001b[0m job \u001b[38;5;241m=\u001b[39m \u001b[43mbackend\u001b[49m\u001b[38;5;241;43m.\u001b[39;49m\u001b[43mrun\u001b[49m\u001b[43m(\u001b[49m\u001b[43mnew_circuit\u001b[49m\u001b[43m)\u001b[49m\n\u001b[0;32m      5\u001b[0m result \u001b[38;5;241m=\u001b[39m job\u001b[38;5;241m.\u001b[39mresult()\n",
      "File \u001b[1;32mc:\\Users\\ejfei\\OneDrive\\Documents\\Qiskit\\cwd\\Lib\\site-packages\\qiskit_ibm_runtime\\ibm_backend.py:749\u001b[0m, in \u001b[0;36mIBMBackend.run\u001b[1;34m(self, circuits, dynamic, job_tags, init_circuit, init_num_resets, header, shots, memory, meas_level, meas_return, rep_delay, init_qubits, use_measure_esp, noise_model, seed_simulator, **run_config)\u001b[0m\n\u001b[0;32m    730\u001b[0m run_config_dict \u001b[38;5;241m=\u001b[39m \u001b[38;5;28mself\u001b[39m\u001b[38;5;241m.\u001b[39m_get_run_config(\n\u001b[0;32m    731\u001b[0m     program_id\u001b[38;5;241m=\u001b[39mprogram_id,\n\u001b[0;32m    732\u001b[0m     init_circuit\u001b[38;5;241m=\u001b[39minit_circuit,\n\u001b[1;32m   (...)\u001b[0m\n\u001b[0;32m    744\u001b[0m     \u001b[38;5;241m*\u001b[39m\u001b[38;5;241m*\u001b[39mrun_config,\n\u001b[0;32m    745\u001b[0m )\n\u001b[0;32m    747\u001b[0m run_config_dict[\u001b[38;5;124m\"\u001b[39m\u001b[38;5;124mcircuits\u001b[39m\u001b[38;5;124m\"\u001b[39m] \u001b[38;5;241m=\u001b[39m circuits\n\u001b[1;32m--> 749\u001b[0m \u001b[38;5;28;01mreturn\u001b[39;00m \u001b[38;5;28;43mself\u001b[39;49m\u001b[38;5;241;43m.\u001b[39;49m\u001b[43m_runtime_run\u001b[49m\u001b[43m(\u001b[49m\n\u001b[0;32m    750\u001b[0m \u001b[43m    \u001b[49m\u001b[43mprogram_id\u001b[49m\u001b[38;5;241;43m=\u001b[39;49m\u001b[43mprogram_id\u001b[49m\u001b[43m,\u001b[49m\n\u001b[0;32m    751\u001b[0m \u001b[43m    \u001b[49m\u001b[43minputs\u001b[49m\u001b[38;5;241;43m=\u001b[39;49m\u001b[43mrun_config_dict\u001b[49m\u001b[43m,\u001b[49m\n\u001b[0;32m    752\u001b[0m \u001b[43m    \u001b[49m\u001b[43mbackend_name\u001b[49m\u001b[38;5;241;43m=\u001b[39;49m\u001b[38;5;28;43mself\u001b[39;49m\u001b[38;5;241;43m.\u001b[39;49m\u001b[43mname\u001b[49m\u001b[43m,\u001b[49m\n\u001b[0;32m    753\u001b[0m \u001b[43m    \u001b[49m\u001b[43mjob_tags\u001b[49m\u001b[38;5;241;43m=\u001b[39;49m\u001b[43mjob_tags\u001b[49m\u001b[43m,\u001b[49m\n\u001b[0;32m    754\u001b[0m \u001b[43m    \u001b[49m\u001b[43mimage\u001b[49m\u001b[38;5;241;43m=\u001b[39;49m\u001b[43mimage\u001b[49m\u001b[43m,\u001b[49m\n\u001b[0;32m    755\u001b[0m \u001b[43m\u001b[49m\u001b[43m)\u001b[49m\n",
      "File \u001b[1;32mc:\\Users\\ejfei\\OneDrive\\Documents\\Qiskit\\cwd\\Lib\\site-packages\\qiskit_ibm_runtime\\ibm_backend.py:795\u001b[0m, in \u001b[0;36mIBMBackend._runtime_run\u001b[1;34m(self, program_id, inputs, backend_name, job_tags, image)\u001b[0m\n\u001b[0;32m    783\u001b[0m     response \u001b[38;5;241m=\u001b[39m \u001b[38;5;28mself\u001b[39m\u001b[38;5;241m.\u001b[39m_api_client\u001b[38;5;241m.\u001b[39mprogram_run(\n\u001b[0;32m    784\u001b[0m         program_id\u001b[38;5;241m=\u001b[39mprogram_id,\n\u001b[0;32m    785\u001b[0m         backend_name\u001b[38;5;241m=\u001b[39mbackend_name,\n\u001b[1;32m   (...)\u001b[0m\n\u001b[0;32m    792\u001b[0m         image\u001b[38;5;241m=\u001b[39mimage,\n\u001b[0;32m    793\u001b[0m     )\n\u001b[0;32m    794\u001b[0m \u001b[38;5;28;01mexcept\u001b[39;00m RequestsApiError \u001b[38;5;28;01mas\u001b[39;00m ex:\n\u001b[1;32m--> 795\u001b[0m     \u001b[38;5;28;01mraise\u001b[39;00m IBMBackendApiError(\u001b[38;5;124m\"\u001b[39m\u001b[38;5;124mError submitting job: \u001b[39m\u001b[38;5;132;01m{}\u001b[39;00m\u001b[38;5;124m\"\u001b[39m\u001b[38;5;241m.\u001b[39mformat(\u001b[38;5;28mstr\u001b[39m(ex))) \u001b[38;5;28;01mfrom\u001b[39;00m \u001b[38;5;21;01mex\u001b[39;00m\n\u001b[0;32m    796\u001b[0m \u001b[38;5;28;01mtry\u001b[39;00m:\n\u001b[0;32m    797\u001b[0m     job \u001b[38;5;241m=\u001b[39m RuntimeJob(\n\u001b[0;32m    798\u001b[0m         backend\u001b[38;5;241m=\u001b[39m\u001b[38;5;28mself\u001b[39m,\n\u001b[0;32m    799\u001b[0m         api_client\u001b[38;5;241m=\u001b[39m\u001b[38;5;28mself\u001b[39m\u001b[38;5;241m.\u001b[39m_api_client,\n\u001b[1;32m   (...)\u001b[0m\n\u001b[0;32m    805\u001b[0m         tags\u001b[38;5;241m=\u001b[39mjob_tags,\n\u001b[0;32m    806\u001b[0m     )\n",
      "\u001b[1;31mIBMBackendApiError\u001b[0m: 'Error submitting job: \\'409 Client Error: Conflict for url: https://api.quantum.ibm.com/runtime/jobs. {\"errors\":[{\"message\":\"You have reached the limit of 3 pending  jobs. Please wait for a job to complete or cancel one before submitting anything new.\",\"code\":3458,\"solution\":\"Wait until some previous jobs were finished. You can cancel pending jobs to run new jobs.\",\"more_info\":\"https://docs.quantum-computing.ibm.com/errors\"}]}\\''"
     ]
    }
   ],
   "source": [
    "from qiskit import transpile\n",
    " \n",
    "new_circuit = transpile(grover_circ, backend)\n",
    "job = backend.run(new_circuit)\n",
    "result = job.result()"
   ]
  },
  {
   "cell_type": "code",
   "execution_count": null,
   "metadata": {},
   "outputs": [],
   "source": [
    "sv = result.get_statevector()\n",
    "## Prepared superposition state and got same states except with the (1,1) state flipped\n",
    "np.around(sv, 2)"
   ]
  },
  {
   "cell_type": "code",
   "execution_count": 2,
   "metadata": {},
   "outputs": [
    {
     "name": "stdout",
     "output_type": "stream",
     "text": [
      "     ┌───┐┌───┐   ┌───┐\n",
      "q_0: ┤ H ├┤ Z ├─■─┤ H ├\n",
      "     ├───┤├───┤ │ ├───┤\n",
      "q_1: ┤ H ├┤ Z ├─■─┤ H ├\n",
      "     └───┘└───┘   └───┘\n"
     ]
    }
   ],
   "source": [
    "\"\"\" Must perform amplitude amplification to amplify the probabilities of the winning state and reduce probability of non-winning states\n",
    "Create new state in the span of the winning state and the superposition state called s' which is orthogonal to the winning state\n",
    "\n",
    "s' is the superposition state without the winning components\n",
    "\n",
    "Applying the oracle operator to the superpositioned state will flip the sign of the winning state\n",
    "    (Geometrically, we're reflecting s around s'): |s><s| - I\n",
    "\"\"\"\n",
    "from qiskit import QuantumCircuit\n",
    "\n",
    "# Create the reflection circuit\n",
    "reflection = QuantumCircuit(2, name='reflection')\n",
    "\n",
    "# Add Hadamard gates to all qubits to create superposition\n",
    "reflection.h([0, 1])\n",
    "\n",
    "# Apply Z gate on both qubits\n",
    "reflection.z([0, 1])\n",
    "\n",
    "# Apply controlled-Z gate\n",
    "reflection.cz(0, 1)\n",
    "\n",
    "# Apply Hadamard gates to all qubits to bring back to original state\n",
    "reflection.h([0, 1])\n",
    "\n",
    "# Convert to gate\n",
    "reflection_gate = reflection.to_gate()\n",
    "\n",
    "# Optionally, print the circuit for visualization\n",
    "print(reflection)"
   ]
  },
  {
   "cell_type": "code",
   "execution_count": 6,
   "metadata": {},
   "outputs": [
    {
     "data": {
      "text/plain": [
       "<qiskit.circuit.instructionset.InstructionSet at 0x1c8265fbc70>"
      ]
     },
     "execution_count": 6,
     "metadata": {},
     "output_type": "execute_result"
    }
   ],
   "source": [
    "from qiskit_ibm_runtime import QiskitRuntimeService\n",
    "backend_name = 'ibm_brisbane'\n",
    "service = QiskitRuntimeService()\n",
    "backend = service.get_backend(backend_name)\n",
    "grover_circ = QuantumCircuit(2,2)\n",
    "grover_circ.h([0, 1])\n",
    "grover_circ.append(oracle, [0, 1])\n",
    "grover_circ.append(reflection, [0, 1])\n",
    "grover_circ.measure([0, 1], [0, 1])"
   ]
  },
  {
   "cell_type": "code",
   "execution_count": 7,
   "metadata": {},
   "outputs": [
    {
     "data": {
      "text/html": [
       "<pre style=\"word-wrap: normal;white-space: pre;background: #fff0;line-height: 1.1;font-family: &quot;Courier New&quot;,Courier,monospace\">     ┌───┐┌─────────┐┌─────────────┐┌─┐   \n",
       "q_0: ┤ H ├┤0        ├┤0            ├┤M├───\n",
       "     ├───┤│  oracle ││  reflection │└╥┘┌─┐\n",
       "q_1: ┤ H ├┤1        ├┤1            ├─╫─┤M├\n",
       "     └───┘└─────────┘└─────────────┘ ║ └╥┘\n",
       "c: 2/════════════════════════════════╩══╩═\n",
       "                                     0  1 </pre>"
      ],
      "text/plain": [
       "     ┌───┐┌─────────┐┌─────────────┐┌─┐   \n",
       "q_0: ┤ H ├┤0        ├┤0            ├┤M├───\n",
       "     ├───┤│  oracle ││  reflection │└╥┘┌─┐\n",
       "q_1: ┤ H ├┤1        ├┤1            ├─╫─┤M├\n",
       "     └───┘└─────────┘└─────────────┘ ║ └╥┘\n",
       "c: 2/════════════════════════════════╩══╩═\n",
       "                                     0  1 "
      ]
     },
     "execution_count": 7,
     "metadata": {},
     "output_type": "execute_result"
    }
   ],
   "source": [
    "# Prepared superposition state\n",
    "grover_circ.draw()"
   ]
  },
  {
   "cell_type": "code",
   "execution_count": 17,
   "metadata": {},
   "outputs": [
    {
     "name": "stderr",
     "output_type": "stream",
     "text": [
      "C:\\Users\\ejfei\\AppData\\Local\\Temp\\ipykernel_1736\\1294120368.py:4: DeprecationWarning: backend.run() and related sessions methods are deprecated  as of qiskit-ibm-runtime 0.23 and will be removed no sooner than 6 months after the release date. More details can be found in the primitives migration guide https://docs.quantum.ibm.com/api/migration-guides/qiskit-runtime.\n",
      "  job = backend.run(new_circuit)\n"
     ]
    }
   ],
   "source": [
    "from qiskit import transpile\n",
    "## After having the oracle and reflection operators, we want the state |11>\n",
    "new_circuit = transpile(grover_circ, backend)\n",
    "job = backend.run(new_circuit)\n",
    "result = job.result()\n",
    "## Should give back {11 state}\n",
    "result.get_counts()"
   ]
  }
 ],
 "metadata": {
  "kernelspec": {
   "display_name": "Python 3",
   "language": "python",
   "name": "python3"
  },
  "language_info": {
   "codemirror_mode": {
    "name": "ipython",
    "version": 3
   },
   "file_extension": ".py",
   "mimetype": "text/x-python",
   "name": "python",
   "nbconvert_exporter": "python",
   "pygments_lexer": "ipython3",
   "version": "3.12.4"
  }
 },
 "nbformat": 4,
 "nbformat_minor": 2
}
