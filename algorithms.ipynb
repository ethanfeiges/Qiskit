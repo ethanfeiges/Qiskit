{
 "cells": [
  {
   "cell_type": "code",
   "execution_count": null,
   "metadata": {},
   "outputs": [],
   "source": [
    "## Suppose we have an unsorted list:\n",
    "my_list = [3, 5, 2, 4, 9, 5, 7, 0, 10]\n",
    "\n",
    "\"\"\" Objective: Find #7\n",
    "Modify the classical search approach (O(N) linear traversal) by defining an oracle (black box)\n",
    "\"\"\"\n",
    "## (Black box to produce a solution for any instance of a given problem at our disposal)\n",
    "def the_oracle(my_input):\n",
    "    winner=7\n",
    "    if(my_input is winner):\n",
    "        return True\n",
    "    return False"
   ]
  },
  {
   "cell_type": "code",
   "execution_count": null,
   "metadata": {},
   "outputs": [],
   "source": [
    "# How many times will we need to call the oracle to get an actual winner?\n",
    "\n",
    "for index, trial_number in enumerate(my_list):\n",
    "    if the_oracle(trial_number) is True:\n",
    "        print('Winner found at index %i' %index)\n",
    "        print('%i calls to the Oracle used' %(index + 1))\n",
    "        break"
   ]
  },
  {
   "cell_type": "markdown",
   "metadata": {},
   "source": [
    "## Quantum Oracle: Flips the sign if the input state matches the \"winner\" (11) state"
   ]
  },
  {
   "cell_type": "markdown",
   "metadata": {},
   "source": [
    "Grover's algorithm turns the classical algorithm into sqrt(N)"
   ]
  },
  {
   "cell_type": "code",
   "execution_count": null,
   "metadata": {},
   "outputs": [],
   "source": [
    "## Controlled Z-gate flips the state of the |11> state\n",
    "## Also need amplitude amplficiation (reflection operator)\n",
    "## Grover's operator = amplification + oracle"
   ]
  },
  {
   "cell_type": "code",
   "execution_count": 2,
   "metadata": {},
   "outputs": [],
   "source": [
    "from qiskit import *\n",
    "import matplotlib.pyplot as plot\n",
    "import numpy as np"
   ]
  },
  {
   "cell_type": "code",
   "execution_count": 3,
   "metadata": {},
   "outputs": [
    {
     "data": {
      "text/html": [
       "<pre style=\"word-wrap: normal;white-space: pre;background: #fff0;line-height: 1.1;font-family: &quot;Courier New&quot;,Courier,monospace\">        \n",
       "q_0: ─■─\n",
       "      │ \n",
       "q_1: ─■─\n",
       "        </pre>"
      ],
      "text/plain": [
       "        \n",
       "q_0: ─■─\n",
       "      │ \n",
       "q_1: ─■─\n",
       "        "
      ]
     },
     "execution_count": 3,
     "metadata": {},
     "output_type": "execute_result"
    }
   ],
   "source": [
    "#define a circuit to act as an oracle\n",
    "oracle = QuantumCircuit(2, name='oracle')\n",
    "## Controlled not gate\n",
    "oracle.cz(0, 1)\n",
    "oracle.to_gate()\n",
    "oracle.draw()"
   ]
  },
  {
   "cell_type": "code",
   "execution_count": 4,
   "metadata": {},
   "outputs": [
    {
     "name": "stderr",
     "output_type": "stream",
     "text": [
      "C:\\Users\\ejfei\\AppData\\Local\\Temp\\ipykernel_280\\1935592898.py:5: DeprecationWarning: The get_backend() method is deprecated as of qiskit-ibm-runtime 0.24 and will be removed no sooner than 3 months after the release date. Please use backend() instead.\n",
      "  backend = service.get_backend(backend_name)\n"
     ]
    },
    {
     "data": {
      "text/html": [
       "<pre style=\"word-wrap: normal;white-space: pre;background: #fff0;line-height: 1.1;font-family: &quot;Courier New&quot;,Courier,monospace\">     ┌───┐┌─────────┐┌─┐   \n",
       "q_0: ┤ H ├┤0        ├┤M├───\n",
       "     ├───┤│  oracle │└╥┘┌─┐\n",
       "q_1: ┤ H ├┤1        ├─╫─┤M├\n",
       "     └───┘└─────────┘ ║ └╥┘\n",
       "c: 2/═════════════════╩══╩═\n",
       "                      0  1 </pre>"
      ],
      "text/plain": [
       "     ┌───┐┌─────────┐┌─┐   \n",
       "q_0: ┤ H ├┤0        ├┤M├───\n",
       "     ├───┤│  oracle │└╥┘┌─┐\n",
       "q_1: ┤ H ├┤1        ├─╫─┤M├\n",
       "     └───┘└─────────┘ ║ └╥┘\n",
       "c: 2/═════════════════╩══╩═\n",
       "                      0  1 "
      ]
     },
     "execution_count": 4,
     "metadata": {},
     "output_type": "execute_result"
    }
   ],
   "source": [
    "\n",
    "## Check Oracle functionality by preparing superposition state of all qubits by applying hadamard gate\n",
    "from qiskit_ibm_runtime import QiskitRuntimeService\n",
    "backend_name = 'ibm_brisbane'\n",
    "service = QiskitRuntimeService()\n",
    "backend = service.get_backend(backend_name)\n",
    "## Two qubits and two classical registers\n",
    "grover_circ = QuantumCircuit(2, 2)\n",
    "## Add hadamard gate on both qubits to prepare all 4 superposition states\n",
    "grover_circ.h([0, 1])\n",
    "## Add oracle to query both superpositioned states at the same time\n",
    "grover_circ.append(oracle, [0, 1])\n",
    "grover_circ.measure([0, 1], [0, 1])\n",
    "grover_circ.draw()"
   ]
  },
  {
   "cell_type": "code",
   "execution_count": null,
   "metadata": {},
   "outputs": [],
   "source": [
    "from qiskit import transpile\n",
    " \n",
    "new_circuit = transpile(grover_circ, backend)\n",
    "job = backend.run(new_circuit)\n",
    "result = job.result()"
   ]
  },
  {
   "cell_type": "code",
   "execution_count": null,
   "metadata": {},
   "outputs": [],
   "source": [
    "sv = result.get_statevector()\n",
    "## Prepared superposition state and got same states except with the (1,1) state flipped\n",
    "np.around(sv, 2)"
   ]
  },
  {
   "cell_type": "code",
   "execution_count": null,
   "metadata": {},
   "outputs": [],
   "source": [
    "\"\"\" Must perform amplitude amplification to amplify the probabilities of the winning state and reduce probability of non-winning states\n",
    "Create new state in the span of the winning state and the superposition state called s' which is orthogonal to the winning state\n",
    "\n",
    "s' is the superposition state without the winning components\n",
    "\n",
    "Applying the oracle operator to the superpositioned state will flip the sign of the winning state\n",
    "    (Geometrically, we're reflecting s around s'): |s><s| - I\n",
    "\"\"\"\n",
    "from qiskit import QuantumCircuit\n",
    "\n",
    "# Create the reflection circuit\n",
    "reflection = QuantumCircuit(2, name='reflection')\n",
    "\n",
    "# Add Hadamard gates to all qubits to create superposition\n",
    "reflection.h([0, 1])\n",
    "\n",
    "# Apply Z gate on both qubits\n",
    "reflection.z([0, 1])\n",
    "\n",
    "# Apply controlled-Z gate\n",
    "reflection.cz(0, 1)\n",
    "\n",
    "# Apply Hadamard gates to all qubits to bring back to original state\n",
    "reflection.h([0, 1])\n",
    "\n",
    "# Convert to gate\n",
    "reflection_gate = reflection.to_gate()\n",
    "\n",
    "# Optionally, print the circuit for visualization\n",
    "print(reflection)"
   ]
  },
  {
   "cell_type": "code",
   "execution_count": null,
   "metadata": {},
   "outputs": [],
   "source": [
    "from qiskit_ibm_runtime import QiskitRuntimeService\n",
    "backend_name = 'ibm_brisbane'\n",
    "service = QiskitRuntimeService()\n",
    "backend = service.get_backend(backend_name)\n",
    "grover_circ = QuantumCircuit(2,2)\n",
    "grover_circ.h([0, 1])\n",
    "grover_circ.append(oracle, [0, 1])\n",
    "grover_circ.append(reflection, [0, 1])\n",
    "grover_circ.measure([0, 1], [0, 1])"
   ]
  },
  {
   "cell_type": "code",
   "execution_count": null,
   "metadata": {},
   "outputs": [],
   "source": [
    "# Prepared superposition state\n",
    "grover_circ.draw()"
   ]
  },
  {
   "cell_type": "code",
   "execution_count": null,
   "metadata": {},
   "outputs": [],
   "source": [
    "from qiskit import transpile\n",
    "## After having the oracle and reflection operators, we want the state |11>\n",
    "new_circuit = transpile(grover_circ, backend)\n",
    "job = backend.run(new_circuit)\n",
    "result = job.result()\n",
    "## Should give back {11 state}\n",
    "result.get_counts()"
   ]
  }
 ],
 "metadata": {
  "kernelspec": {
   "display_name": "Python 3",
   "language": "python",
   "name": "python3"
  },
  "language_info": {
   "codemirror_mode": {
    "name": "ipython",
    "version": 3
   },
   "file_extension": ".py",
   "mimetype": "text/x-python",
   "name": "python",
   "nbconvert_exporter": "python",
   "pygments_lexer": "ipython3",
   "version": "3.12.4"
  }
 },
 "nbformat": 4,
 "nbformat_minor": 2
}
